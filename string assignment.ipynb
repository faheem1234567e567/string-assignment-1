{
 "cells": [
  {
   "cell_type": "markdown",
   "id": "39213d1d-e1b6-48b0-8b52-db0e3bf2c46f",
   "metadata": {},
   "source": [
    "QUESTION 1:\n",
    "ANS:For example;"
   ]
  },
  {
   "cell_type": "code",
   "execution_count": 1,
   "id": "106fb55c-a471-46e3-8cf8-fa27503945c7",
   "metadata": {},
   "outputs": [],
   "source": [
    "s = 'this is single quote'"
   ]
  },
  {
   "cell_type": "code",
   "execution_count": 2,
   "id": "196a53a3-435f-4702-86f5-c32e3491aa6e",
   "metadata": {},
   "outputs": [
    {
     "data": {
      "text/plain": [
       "'this is single quote'"
      ]
     },
     "execution_count": 2,
     "metadata": {},
     "output_type": "execute_result"
    }
   ],
   "source": [
    "s"
   ]
  },
  {
   "cell_type": "markdown",
   "id": "e0c088f0-cafe-4896-92f8-238ac04dfe8c",
   "metadata": {},
   "source": [
    "QUESTION 2:\n",
    "ANS: String type variable will be stored.\n",
    "If youi assign a single to a variable,such as x = 'a',then the varaible x would be of strin type."
   ]
  },
  {
   "cell_type": "code",
   "execution_count": 3,
   "id": "a07ed3dd-fe35-48ad-a588-5d3bc5c68eaf",
   "metadata": {},
   "outputs": [],
   "source": [
    "x = 'a'"
   ]
  },
  {
   "cell_type": "code",
   "execution_count": 4,
   "id": "bf8f6a5c-d0a9-4acb-8e09-f4d9a0ba37ed",
   "metadata": {},
   "outputs": [
    {
     "data": {
      "text/plain": [
       "str"
      ]
     },
     "execution_count": 4,
     "metadata": {},
     "output_type": "execute_result"
    }
   ],
   "source": [
    "type(x)"
   ]
  },
  {
   "cell_type": "markdown",
   "id": "b0c0c693-b6d1-4712-9814-c5015cf74566",
   "metadata": {},
   "source": [
    "QUESTION 3:\n",
    "ANS:"
   ]
  },
  {
   "cell_type": "code",
   "execution_count": 26,
   "id": "16e8ed56-b7dd-4906-81a6-c71757f16304",
   "metadata": {},
   "outputs": [],
   "source": [
    "S = \"Welcome to Python foundation course\""
   ]
  },
  {
   "cell_type": "code",
   "execution_count": 27,
   "id": "0669cf2d-6eb9-47c6-9ee1-9dd535d0c48b",
   "metadata": {},
   "outputs": [
    {
     "data": {
      "text/plain": [
       "'Welcome to Python foundation course'"
      ]
     },
     "execution_count": 27,
     "metadata": {},
     "output_type": "execute_result"
    }
   ],
   "source": [
    "S"
   ]
  },
  {
   "cell_type": "code",
   "execution_count": 28,
   "id": "b804dec1-f4d5-43f9-a5e7-96ada7f6fabd",
   "metadata": {},
   "outputs": [
    {
     "data": {
      "text/plain": [
       "0"
      ]
     },
     "execution_count": 28,
     "metadata": {},
     "output_type": "execute_result"
    }
   ],
   "source": [
    "S.find(S)"
   ]
  },
  {
   "cell_type": "code",
   "execution_count": 32,
   "id": "eb18b3f5-7885-4c6d-a8da-dc9947a6a151",
   "metadata": {},
   "outputs": [
    {
     "data": {
      "text/plain": [
       "35"
      ]
     },
     "execution_count": 32,
     "metadata": {},
     "output_type": "execute_result"
    }
   ],
   "source": [
    "len(S)"
   ]
  },
  {
   "cell_type": "code",
   "execution_count": 34,
   "id": "b2322cb0-6cf7-4a9a-a03d-ad24369f0702",
   "metadata": {},
   "outputs": [
    {
     "data": {
      "text/plain": [
       "1"
      ]
     },
     "execution_count": 34,
     "metadata": {},
     "output_type": "execute_result"
    }
   ],
   "source": [
    "S.find('e')"
   ]
  },
  {
   "cell_type": "code",
   "execution_count": 35,
   "id": "3485078b-f08a-4337-80e4-02f44e0d7008",
   "metadata": {},
   "outputs": [
    {
     "data": {
      "text/plain": [
       "6"
      ]
     },
     "execution_count": 35,
     "metadata": {},
     "output_type": "execute_result"
    }
   ],
   "source": [
    "S.count('o')"
   ]
  },
  {
   "cell_type": "code",
   "execution_count": 36,
   "id": "429b7447-e598-4f3a-8ff8-b7cb7d2bd1e5",
   "metadata": {},
   "outputs": [],
   "source": [
    "x = \" hello world\""
   ]
  },
  {
   "cell_type": "code",
   "execution_count": 37,
   "id": "a8bf2d80-4a70-47d8-8ba5-905b6ddaa300",
   "metadata": {},
   "outputs": [],
   "source": [
    "concatenated_string = S + x"
   ]
  },
  {
   "cell_type": "code",
   "execution_count": 38,
   "id": "283a6413-56d2-448c-982f-21d3f0b01726",
   "metadata": {},
   "outputs": [
    {
     "name": "stdout",
     "output_type": "stream",
     "text": [
      "Welcome to Python foundation course hello world\n"
     ]
    }
   ],
   "source": [
    "print(concatenated_string)"
   ]
  },
  {
   "cell_type": "markdown",
   "id": "ddae7f1c-201c-497f-9429-1ef1d4284389",
   "metadata": {},
   "source": [
    "QUESTION 4:\n",
    "ANS:"
   ]
  },
  {
   "cell_type": "code",
   "execution_count": 39,
   "id": "cb6ecb53-6d27-4906-9a56-d26b7b9db2ec",
   "metadata": {},
   "outputs": [],
   "source": [
    "word = 'PanaJi@12256'"
   ]
  },
  {
   "cell_type": "code",
   "execution_count": 40,
   "id": "583f3e8c-75ba-45c3-9502-3b1fc66676cb",
   "metadata": {},
   "outputs": [
    {
     "data": {
      "text/plain": [
       "'PanaJi@12256'"
      ]
     },
     "execution_count": 40,
     "metadata": {},
     "output_type": "execute_result"
    }
   ],
   "source": [
    "word"
   ]
  },
  {
   "cell_type": "code",
   "execution_count": 41,
   "id": "24b3142c-b45a-4468-b7bb-a9ddc5d640bd",
   "metadata": {},
   "outputs": [],
   "source": [
    "lowercase_count = 0\n",
    "uppercase_count = 0\n",
    "numeric_count = 0"
   ]
  },
  {
   "cell_type": "code",
   "execution_count": 47,
   "id": "4ea59414-ab1d-4765-8cef-8bf69d629fbb",
   "metadata": {},
   "outputs": [
    {
     "ename": "SyntaxError",
     "evalue": "invalid syntax (1868058948.py, line 4)",
     "output_type": "error",
     "traceback": [
      "\u001b[0;36m  Cell \u001b[0;32mIn[47], line 4\u001b[0;36m\u001b[0m\n\u001b[0;31m    elif char.isupper():\u001b[0m\n\u001b[0m    ^\u001b[0m\n\u001b[0;31mSyntaxError\u001b[0m\u001b[0;31m:\u001b[0m invalid syntax\n"
     ]
    }
   ],
   "source": [
    "for char in string :\n",
    "    if char.islower():\n",
    "        lowercase_count += 1\n",
    "        elif char.isupper():\n",
    "            uppercase_count += 1\n",
    "            elif char.isdigit():\n",
    "                numeric_count += 1"
   ]
  },
  {
   "cell_type": "code",
   "execution_count": 45,
   "id": "6b0dd100-8e6d-4953-9e63-975efe814c4f",
   "metadata": {},
   "outputs": [
    {
     "name": "stdout",
     "output_type": "stream",
     "text": [
      "Total number of lower alphabets: 0\n",
      "Total number of uppercase alphabets 0\n",
      "Total number OF numeric characters:  0\n"
     ]
    }
   ],
   "source": [
    "print(\"Total number of lower alphabets:\", lowercase_count)\n",
    "print(\"Total number of uppercase alphabets\", uppercase_count)\n",
    "print(\"Total number OF numeric characters: \", numeric_count)"
   ]
  },
  {
   "cell_type": "markdown",
   "id": "7ebaa9ae-a1e5-4378-baee-ead6f8647044",
   "metadata": {},
   "source": [
    "QUESTION 5:\n",
    "ANS:"
   ]
  },
  {
   "cell_type": "raw",
   "id": "18dee8f5-8feb-4688-b1f6-71211d89e0ed",
   "metadata": {},
   "source": [
    "number = 42"
   ]
  },
  {
   "cell_type": "code",
   "execution_count": 50,
   "id": "2232fd2a-b3d6-422c-ad21-528cdf2a9d80",
   "metadata": {},
   "outputs": [
    {
     "name": "stdout",
     "output_type": "stream",
     "text": [
      "42\n",
      "<class 'str'>\n"
     ]
    }
   ],
   "source": [
    "number_as_string = str(number)\n",
    "print(number_as_string)\n",
    "print(type(number_as_string))"
   ]
  },
  {
   "cell_type": "code",
   "execution_count": null,
   "id": "5a4def63-e8ea-4ab5-ba07-d8740ea22cfe",
   "metadata": {},
   "outputs": [],
   "source": []
  }
 ],
 "metadata": {
  "kernelspec": {
   "display_name": "Python 3 (ipykernel)",
   "language": "python",
   "name": "python3"
  },
  "language_info": {
   "codemirror_mode": {
    "name": "ipython",
    "version": 3
   },
   "file_extension": ".py",
   "mimetype": "text/x-python",
   "name": "python",
   "nbconvert_exporter": "python",
   "pygments_lexer": "ipython3",
   "version": "3.10.8"
  }
 },
 "nbformat": 4,
 "nbformat_minor": 5
}
